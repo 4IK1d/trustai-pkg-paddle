{
 "cells": [
  {
   "cell_type": "code",
   "execution_count": null,
   "metadata": {
    "collapsed": true,
    "execution": {
     "iopub.execute_input": "2023-01-18T06:43:10.702824Z",
     "iopub.status.busy": "2023-01-18T06:43:10.702216Z"
    },
    "jupyter": {
     "outputs_hidden": true,
     "source_hidden": true
    },
    "scrolled": true,
    "tags": []
   },
   "outputs": [
    {
     "name": "stdout",
     "output_type": "stream",
     "text": [
      "mkdir: 无法创建目录\"/home/aistudio/external-libraries\": 文件已存在\r\n",
      "Looking in indexes: https://pypi.tuna.tsinghua.edu.cn/simple\r\n",
      "Collecting paddlenlp==2.4.2\r\n",
      "  Downloading https://pypi.tuna.tsinghua.edu.cn/packages/a0/5a/50550753c912f9957fe158d85bcebfdbfc30d3067d01e980ddd53d23baa7/paddlenlp-2.4.2-py3-none-any.whl (1.8 MB)\r\n",
      "     l     ━━━━━━━━━━━━━━━━━━━━━━━━━━━━━━━━━━━━━━━━ 0.0/1.8 MB ? eta -:--:--━━━━━━╺━━━━━━━━━━━━━━━━━━━━━━━━━━━━━━━━━ 0.3/1.8 MB 8.7 MB/s eta 0:00:01━━━━━━━━━━━━━━━━━━╸━━━━━━━━━━━━━━━━━━━━━ 0.9/1.8 MB 13.5 MB/s eta 0:00:01━━━━━━━━━━━━━━━━━━━━━━━━━━━━━━━━━╺━━━━━━ 1.5/1.8 MB 15.1 MB/s eta 0:00:01━━━━━━━━━━━━━━━━━━━━━━━━━━━━━━━━━━━━━━━━ 1.8/1.8 MB 12.9 MB/s eta 0:00:00\r\n",
      "\u001b[?25hCollecting paddlefsl\r\n",
      "  Downloading https://pypi.tuna.tsinghua.edu.cn/packages/fb/4a/25d1959a8f1fe5ee400f32fc9fc8b56d4fd6fc25315e23c0171f6e705e2a/paddlefsl-1.1.0-py3-none-any.whl (101 kB)\r\n",
      "     l     ━━━━━━━━━━━━━━━━━━━━━━━━━━━━━━━━━━━━━━━━ 0.0/101.0 kB ? eta -:--:--━━━━━━━━━━━━━━━━━━━━━━━━━━━━━━━━━━━━━━━ 101.0/101.0 kB 3.7 MB/s eta 0:00:00\r\n",
      "\u001b[?25hCollecting dill<0.3.5\r\n",
      "  Downloading https://pypi.tuna.tsinghua.edu.cn/packages/b6/c3/973676ceb86b60835bb3978c6db67a5dc06be6cfdbd14ef0f5a13e3fc9fd/dill-0.3.4-py2.py3-none-any.whl (86 kB)\r\n",
      "     l     ━━━━━━━━━━━━━━━━━━━━━━━━━━━━━━━━━━━━━━━━ 0.0/86.9 kB ? eta -:--:--━━━━━━━━━━━━━━━━━━━━━━━━━━━━━━━━━━━━━━━━ 86.9/86.9 kB 14.3 MB/s eta 0:00:00\r\n",
      "\u001b[?25hCollecting jieba\r\n",
      "  Downloading https://pypi.tuna.tsinghua.edu.cn/packages/c6/cb/18eeb235f833b726522d7ebed54f2278ce28ba9438e3135ab0278d9792a2/jieba-0.42.1.tar.gz (19.2 MB)\r\n",
      "     l     ━━━━━━━━━━━━━━━━━━━━━━━━━━━━━━━━━━━━━━━━ 0.0/19.2 MB ? eta -:--:--━━━━━━━━━━━━━━━━━━━━━━━━━━━━━━━━━━━━━━━━ 0.2/19.2 MB 7.2 MB/s eta 0:00:03━╺━━━━━━━━━━━━━━━━━━━━━━━━━━━━━━━━━━━━━━ 0.7/19.2 MB 10.1 MB/s eta 0:00:02━━╺━━━━━━━━━━━━━━━━━━━━━━━━━━━━━━━━━━━━━ 1.0/19.2 MB 11.5 MB/s eta 0:00:02━━━╸━━━━━━━━━━━━━━━━━━━━━━━━━━━━━━━━━━━━ 1.7/19.2 MB 13.9 MB/s eta 0:00:02━━━━╺━━━━━━━━━━━━━━━━━━━━━━━━━━━━━━━━━━━ 2.2/19.2 MB 12.3 MB/s eta 0:00:02━━━━━╸━━━━━━━━━━━━━━━━━━━━━━━━━━━━━━━━━━ 2.8/19.2 MB 13.3 MB/s eta 0:00:02━━━━━━╸━━━━━━━━━━━━━━━━━━━━━━━━━━━━━━━━━ 3.3/19.2 MB 13.3 MB/s eta 0:00:02━━━━━━━╸━━━━━━━━━━━━━━━━━━━━━━━━━━━━━━━━ 3.7/19.2 MB 13.2 MB/s eta 0:00:02━━━━━━━━╸━━━━━━━━━━━━━━━━━━━━━━━━━━━━━━━ 4.1/19.2 MB 13.0 MB/s eta 0:00:02━━━━━━━━━╺━━━━━━━━━━━━━━━━━━━━━━━━━━━━━━ 4.5/19.2 MB 12.7 MB/s eta 0:00:02━━━━━━━━━━╺━━━━━━━━━━━━━━━━━━━━━━━━━━━━━ 4.9/19.2 MB 12.8 MB/s eta 0:00:02━━━━━━━━━━━╺━━━━━━━━━━━━━━━━━━━━━━━━━━━━ 5.3/19.2 MB 12.5 MB/s eta 0:00:02━━━━━━━━━━━╸━━━━━━━━━━━━━━━━━━━━━━━━\r\n",
      "\u001b[?25h  Preparing metadata (setup.py) ... \u001b[?25ldone\r\n",
      "\u001b[?25hCollecting protobuf<=3.20.0,>=3.1.0\r\n",
      "  Downloading https://pypi.tuna.tsinghua.edu.cn/packages/af/26/cf27940ece6bb8890a67f741eb9da5359b72749f816edf210a28fe01a247/protobuf-3.20.0-cp37-cp37m-manylinux_2_5_x86_64.manylinux1_x86_64.whl (1.0 MB)\r\n",
      "     l     ━━━━━━━━━━━━━━━━━━━━━━━━━━━━━━━━━━━━━━━━ 0.0/1.0 MB ? eta -:--:--━━━━╸━━━━━━━━━━━━━━━━━━━━━━━━━━━━━━━━━━━ 0.1/1.0 MB 3.6 MB/s eta 0:00:01━━━━━━━━╸━━━━━━━━━━━━━━━━━━━━━━━━━━━━━━━ 0.2/1.0 MB 3.1 MB/s eta 0:00:01━━━━━━━━━━━━━━╺━━━━━━━━━━━━━━━━━━━━━━━━━ 0.4/1.0 MB 3.4 MB/s eta 0:00:01━━━━━━━━━━━━━━━━━╸━━━━━━━━━━━━━━━━━━━━━━ 0.5/1.0 MB 3.2 MB/s eta 0:00:01━━━━━━━━━━━━━━━━━━━╸━━━━━━━━━━━━━━━━━━━━ 0.5/1.0 MB 3.1 MB/s eta 0:00:01━━━━━━━━━━━━━━━━━━━━━━━━━━╺━━━━━━━━━━━━━ 0.7/1.0 MB 3.1 MB/s eta 0:00:01━━━━━━━━━━━━━━━━━━━━━━━━━━━━━━━╺━━━━━━━━ 0.8/1.0 MB 3.3 MB/s eta 0:00:01━━━━━━━━━━━━━━━━━━━━━━━━━━━━━━━━━━━━╸━━━ 0.9/1.0 MB 3.3 MB/s eta 0:00:01━━━━━━━━━━━━━━━━━━━━━━━━━━━━━━━━━━━━━━━━ 1.0/1.0 MB 3.3 MB/s eta 0:00:00\r\n",
      "\u001b[?25hCollecting sentencepiece\r\n",
      "  Downloading https://pypi.tuna.tsinghua.edu.cn/packages/d7/e1/169802f953bd3f5e3dcde6f746d8b833b6c23702f02e5f07908607c9a66e/sentencepiece-0.1.97-cp37-cp37m-manylinux_2_17_x86_64.manylinux2014_x86_64.whl (1.3 MB)\r\n",
      "     l     ━━━━━━━━━━━━━━━━━━━━━━━━━━━━━━━━━━━━━━━━ 0.0/1.3 MB ? eta -:--:--━━━━━━╺━━━━━━━━━━━━━━━━━━━━━━━━━━━━━━━━━ 0.2/1.3 MB 6.4 MB/s eta 0:00:01━━━━━━━━━━━━╺━━━━━━━━━━━━━━━━━━━━━━━━━━━ 0.4/1.3 MB 5.7 MB/s eta 0:00:01━━━━━━━━━━━━━━━━╺━━━━━━━━━━━━━━━━━━━━━━━ 0.5/1.3 MB 5.5 MB/s eta 0:00:01━━━━━━━━━━━━━━━━━━━━━━━╺━━━━━━━━━━━━━━━━ 0.7/1.3 MB 5.3 MB/s eta 0:00:01━━━━━━━━━━━━━━━━━━━━━━━━━╸━━━━━━━━━━━━━━ 0.8/1.3 MB 5.1 MB/s eta 0:00:01━━━━━━━━━━━━━━━━━━━━━━━━━━━━━━━╺━━━━━━━━ 1.0/1.3 MB 4.6 MB/s eta 0:00:01━━━━━━━━━━━━━━━━━━━━━━━━━━━━━━━━━━━╸━━━━ 1.1/1.3 MB 4.6 MB/s eta 0:00:01━━━━━━━━━━━━━━━━━━━━━━━━━━━━━━━━━━━━━━╸━ 1.2/1.3 MB 4.5 MB/s eta 0:00:01━━━━━━━━━━━━━━━━━━━━━━━━━━━━━━━━━━━━━━╸━ 1.2/1.3 MB 4.5 MB/s eta 0:00:01━━━━━━━━━━━━━━━━━━━━━━━━━━━━━━━━━━━━━━╸━ 1.2/1.3 MB 4.5 MB/s eta 0:00:01━━━━━━━━━━━━━━━━━━━━━━━━━━━━━━━━━━━━━━╸━ 1.2/1.3 MB 4.5 MB/s eta 0:00:01━━━━━━━━━━━━━━━━━━━━━━━━━━━━━━━━━━━━━━╸━ 1.2/1.3 MB 4.5 MB/s eta 0:00:01━━━━━━━━━━━━━━━━━━━━━━━━━━━━━━━━━━━━━━╸━ 1.2/1.3 MB 4.5 MB/s\r\n",
      "\u001b[?25hCollecting tqdm\r\n",
      "  Downloading https://pypi.tuna.tsinghua.edu.cn/packages/47/bb/849011636c4da2e44f1253cd927cfb20ada4374d8b3a4e425416e84900cc/tqdm-4.64.1-py2.py3-none-any.whl (78 kB)\r\n",
      "     l     ━━━━━━━━━━━━━━━━━━━━━━━━━━━━━━━━━━━━━━━━ 0.0/78.5 kB ? eta -:--:--━━━━━━━━━━━━━━━━━━━━╸━━━━━━━━━━━━━━━━━━━ 41.0/78.5 kB 4.1 MB/s eta 0:00:01━━━━━━━━━━━━━━━━━━━━╸━━━━━━━━━━━━━━━━━━━ 41.0/78.5 kB 4.1 MB/s eta 0:00:01━━━━━━━━━━━━━━━━━━━━╸━━━━━━━━━━━━━━━━━━━ 41.0/78.5 kB 4.1 MB/s eta 0:00:01━━━━━━━━━━━━━━━━━━━━╸━━━━━━━━━━━━━━━━━━━ 41.0/78.5 kB 4.1 MB/s eta 0:00:01━━━━━━━━━━━━━━━━━━━━╸━━━━━━━━━━━━━━━━━━━ 41.0/78.5 kB 4.1 MB/s eta 0:00:01━━━━━━━━━━━━━━━━━━━━╸━━━━━━━━━━━━━━━━━━━ 41.0/78.5 kB 4.1 MB/s eta 0:00:01━━━━━━━━━━━━━━━━━━━━━━━━━━━━━━━━━━━━━━━ 78.5/78.5 kB 285.9 kB/s eta 0:00:00\r\n",
      "\u001b[?25hCollecting colorlog\r\n",
      "  Downloading https://pypi.tuna.tsinghua.edu.cn/packages/58/43/a363c213224448f9e194d626221123ce00e3fb3d87c0c22aed52b620bdd1/colorlog-6.7.0-py2.py3-none-any.whl (11 kB)\r\n",
      "Collecting colorama\r\n",
      "  Downloading https://pypi.tuna.tsinghua.edu.cn/packages/d1/d6/3965ed04c63042e047cb6a3e6ed1a63a35087b6a609aa3a15ed8ac56c221/colorama-0.4.6-py2.py3-none-any.whl (25 kB)\r\n",
      "Collecting datasets>=2.0.0\r\n",
      "  Downloading https://pypi.tuna.tsinghua.edu.cn/packages/24/57/6b07e4dc51479ae3e9bbc774af348b0307e2b66957ceae94d25e3f9d7dcf/datasets-2.8.0-py3-none-any.whl (452 kB)\r\n",
      "     l     ━━━━━━━━━━━━━━━━━━━━━━━━━━━━━━━━━━━━━━━━ 0.0/452.9 kB ? eta -:--:--━━━╸━━━━━━━━━━━━━━━━━━━━━━━━━━━━━━━━━━━━ 41.0/452.9 kB 1.5 MB/s eta 0:00:01━━━━━━╺━━━━━━━━━━━━━━━━━━━━━━━━━━━━━━━ 71.7/452.9 kB 971.3 kB/s eta 0:00:01━━━━━━━━╺━━━━━━━━━━━━━━━━━━━━━━━━━━━━━━━ 92.2/452.9 kB 1.0 MB/s eta 0:00:01━━━━━━━━━━╺━━━━━━━━━━━━━━━━━━━━━━━━━━ 122.9/452.9 kB 862.9 kB/s eta 0:00:01━━━━━━━━━━━╸━━━━━━━━━━━━━━━━━━━━━━━━━ 143.4/452.9 kB 838.3 kB/s eta 0:00:01━━━━━━━━━━━━━━╺━━━━━━━━━━━━━━━━━━━━━━ 174.1/452.9 kB 801.2 kB/s eta 0:00:01━━━━━━━━━━━━━━━━╸━━━━━━━━━━━━━━━━━━━━ 204.8/452.9 kB 788.4 kB/s eta 0:00:01━━━━━━━━━━━━━━━━━━╺━━━━━━━━━━━━━━━━━━ 225.3/452.9 kB 761.7 kB/s eta 0:00:01━━━━━━━━━━━━━━━━━━━━╸━━━━━━━━━━━━━━━━ 256.0/452.9 kB 773.6 kB/s eta 0:00:01━━━━━━━━━━━━━━━━━━━━━━╸━━━━━━━━━━━━━━ 276.5/452.9 kB 758.8 kB/s eta 0:00:01━━━━━━━━━━━━━━━━━━━━━━━━━╺━━━━━━━━━━━ 307.2/452.9 kB 762.3 kB/s eta 0:00:01━━━━━━━━━━━━━━━━━━━━━━━━━╸━━━━━━━━━━━ 317.4/452.9 kB 751.1 kB/s eta 0:00:01━━━━━━━━━━━━━━━━━━━━━━\r\n",
      "\u001b[?25hCollecting visualdl\r\n",
      "  Downloading https://pypi.tuna.tsinghua.edu.cn/packages/4f/98/d456d6ee7081ccc3e3922810af7b69a765a27ebab0f1a0cb638b572585a6/visualdl-2.5.0-py3-none-any.whl (6.3 MB)\r\n",
      "     l     ━━━━━━━━━━━━━━━━━━━━━━━━━━━━━━━━━━━━━━━━ 0.0/6.3 MB ? eta -:--:--━━━━━━━━━━━━━━━━━━━━━━━━━━━━━━━━━━━━━━━━ 0.0/6.3 MB ? eta -:--:--━━━━━━━━━━━━━━━━━━━━━━━━━━━━━━━━━━━━━━━━ 0.0/6.3 MB 420.1 kB/s eta 0:00:15━━━━━━━━━━━━━━━━━━━━━━━━━━━━━━━━━━━━━━━━ 0.1/6.3 MB 627.5 kB/s eta 0:00:10╸━━━━━━━━━━━━━━━━━━━━━━━━━━━━━━━━━━━━━━━ 0.1/6.3 MB 761.0 kB/s eta 0:00:09╸━━━━━━━━━━━━━━━━━━━━━━━━━━━━━━━━━━━━━━━ 0.1/6.3 MB 779.6 kB/s eta 0:00:08━╺━━━━━━━━━━━━━━━━━━━━━━━━━━━━━━━━━━━━━━ 0.2/6.3 MB 885.5 kB/s eta 0:00:07━╺━━━━━━━━━━━━━━━━━━━━━━━━━━━━━━━━━━━━━━ 0.2/6.3 MB 882.2 kB/s eta 0:00:07━╸━━━━━━━━━━━━━━━━━━━━━━━━━━━━━━━━━━━━━━ 0.3/6.3 MB 1.1 MB/s eta 0:00:06━━╺━━━━━━━━━━━━━━━━━━━━━━━━━━━━━━━━━━━━━ 0.4/6.3 MB 1.1 MB/s eta 0:00:06━━╺━━━━━━━━━━━━━━━━━━━━━━━━━━━━━━━━━━━━━ 0.4/6.3 MB 1.1 MB/s eta 0:00:06━━━╺━━━━━━━━━━━━━━━━━━━━━━━━━━━━━━━━━━━━ 0.5/6.3 MB 1.3 MB/s eta 0:00:05━━━╸━━━━━━━━━━━━━━━━━━━━━━━━━━━━━━━━━━━━ 0.6/6.3 MB 1.4 MB/s eta 0:00:04━━━━╸━━━━━━━━━━━━━━━━━━━━━━━━━━━━━━━━━━━ 0.7/6.3 MB 1.5\r\n",
      "\u001b[?25hCollecting multiprocess<=0.70.12.2\r\n",
      "  Downloading https://pypi.tuna.tsinghua.edu.cn/packages/aa/d8/d7bbcef5c03890f5fe983d8419b0c5236af3657c5aa9bddf1991a6ed813a/multiprocess-0.70.12.2-py37-none-any.whl (112 kB)\r\n",
      "     l     ━━━━━━━━━━━━━━━━━━━━━━━━━━━━━━━━━━━━━━━━ 0.0/112.1 kB ? eta -:--:--━━━━━━━━━━━━━━━━━━━━━━━━━━━━━━━━━━━━━━━ 112.1/112.1 kB 3.2 MB/s eta 0:00:00\r\n",
      "\u001b[?25hCollecting seqeval\r\n",
      "  Downloading https://pypi.tuna.tsinghua.edu.cn/packages/9d/2d/233c79d5b4e5ab1dbf111242299153f3caddddbb691219f363ad55ce783d/seqeval-1.2.2.tar.gz (43 kB)\r\n",
      "     l     ━━━━━━━━━━━━━━━━━━━━━━━━━━━━━━━━━━━━━━━━ 0.0/43.6 kB ? eta -:--:--━━━━━━━━━━━━━━━━━━━━━━━━━━━╺━━━━━━━━━━━ 30.7/43.6 kB 120.4 MB/s eta 0:00:01━━━━━━━━━━━━━━━━━━━━━━━━━━━╺━━━━━━━━━━━ 30.7/43.6 kB 120.4 MB/s eta 0:00:01━━━━━━━━━━━━━━━━━━━━━━━━━━━╺━━━━━━━━━━━ 30.7/43.6 kB 120.4 MB/s eta 0:00:01━━━━━━━━━━━━━━━━━━━━━━━━━━━╺━━━━━━━━━━━ 30.7/43.6 kB 120.4 MB/s eta 0:00:01━━━━━━━━━━━━━━━━━━━━━━━━━━━╺━━━━━━━━━━━ 30.7/43.6 kB 120.4 MB/s eta 0:00:01━━━━━━━━━━━━━━━━━━━━━━━━━━━╺━━━━━━━━━━━ 30.7/43.6 kB 120.4 MB/s eta 0:00:01━━━━━━━━━━━━━━━━━━━━━━━━━━━━━━━━━━━━━━━ 43.6/43.6 kB 146.5 kB/s eta 0:00:00\r\n",
      "\u001b[?25h"
     ]
    }
   ],
   "source": [
    "# 如果需要进行持久化安装, 需要使用持久化路径, 如下方代码示例:\n",
    "# If a persistence installation is required, \n",
    "# you need to use the persistence path as the following: \n",
    "!mkdir /home/aistudio/external-libraries\n",
    "!pip install paddlenlp==2.4.2 -i https://pypi.tuna.tsinghua.edu.cn/simple -t /home/aistudio/external-libraries\n",
    "!pip install datasets -t /home/aistudio/external-libraries\n",
    "!pip install rouge -t /home/aistudio/external-libraries"
   ]
  },
  {
   "cell_type": "markdown",
   "metadata": {},
   "source": [
    "# 准备引用"
   ]
  },
  {
   "cell_type": "code",
   "execution_count": 1,
   "metadata": {
    "execution": {
     "iopub.execute_input": "2023-01-19T03:52:38.797589Z",
     "iopub.status.busy": "2023-01-19T03:52:38.796764Z",
     "iopub.status.idle": "2023-01-19T03:52:38.801650Z",
     "shell.execute_reply": "2023-01-19T03:52:38.800919Z",
     "shell.execute_reply.started": "2023-01-19T03:52:38.797554Z"
    },
    "scrolled": true,
    "tags": []
   },
   "outputs": [],
   "source": [
    "import sys \n",
    "sys.path.append('/home/aistudio/external-libraries')\n",
    "sys.path.append('/home/aistudio/work/aigc-pkg-paddle')\n",
    "import json"
   ]
  },
  {
   "cell_type": "markdown",
   "metadata": {},
   "source": [
    "# 准备数据转换代码"
   ]
  },
  {
   "cell_type": "code",
   "execution_count": 2,
   "metadata": {
    "execution": {
     "iopub.execute_input": "2023-01-19T03:52:39.125016Z",
     "iopub.status.busy": "2023-01-19T03:52:39.124005Z",
     "iopub.status.idle": "2023-01-19T03:52:42.345270Z",
     "shell.execute_reply": "2023-01-19T03:52:42.344471Z",
     "shell.execute_reply.started": "2023-01-19T03:52:39.124984Z"
    },
    "scrolled": true,
    "tags": []
   },
   "outputs": [
    {
     "data": {
      "text/plain": [
       "'2.4.2'"
      ]
     },
     "execution_count": 2,
     "metadata": {},
     "output_type": "execute_result"
    }
   ],
   "source": [
    "import paddlenlp\n",
    "paddlenlp.__version__"
   ]
  },
  {
   "cell_type": "code",
   "execution_count": 3,
   "metadata": {
    "execution": {
     "iopub.execute_input": "2023-01-19T03:52:42.499224Z",
     "iopub.status.busy": "2023-01-19T03:52:42.498808Z",
     "iopub.status.idle": "2023-01-19T03:52:42.503393Z",
     "shell.execute_reply": "2023-01-19T03:52:42.502753Z",
     "shell.execute_reply.started": "2023-01-19T03:52:42.499199Z"
    },
    "scrolled": true,
    "tags": []
   },
   "outputs": [],
   "source": [
    "from paddlenlp.datasets import advertisegen"
   ]
  },
  {
   "cell_type": "code",
   "execution_count": 4,
   "metadata": {
    "execution": {
     "iopub.execute_input": "2023-01-19T03:52:42.505451Z",
     "iopub.status.busy": "2023-01-19T03:52:42.504944Z",
     "iopub.status.idle": "2023-01-19T03:52:42.508451Z",
     "shell.execute_reply": "2023-01-19T03:52:42.507856Z",
     "shell.execute_reply.started": "2023-01-19T03:52:42.505424Z"
    },
    "scrolled": true,
    "tags": []
   },
   "outputs": [],
   "source": [
    "adv_data = advertisegen.AdvertiseGen(name='advertisegen')"
   ]
  },
  {
   "cell_type": "code",
   "execution_count": 5,
   "metadata": {
    "execution": {
     "iopub.execute_input": "2023-01-19T03:52:42.509421Z",
     "iopub.status.busy": "2023-01-19T03:52:42.509197Z",
     "iopub.status.idle": "2023-01-19T03:52:43.148995Z",
     "shell.execute_reply": "2023-01-19T03:52:43.148161Z",
     "shell.execute_reply.started": "2023-01-19T03:52:42.509402Z"
    },
    "scrolled": true,
    "tags": []
   },
   "outputs": [],
   "source": [
    "avdertisegen_files_path = ['/home/aistudio/work/AdvertiseGen/train.json', '/home/aistudio/work/AdvertiseGen/dev.json']\n",
    "advertisegen_splits = ['train', 'dev']\n",
    "train_dataset, dev_dataset = adv_data.read_datasets(advertisegen_splits, avdertisegen_files_path)"
   ]
  },
  {
   "cell_type": "code",
   "execution_count": 6,
   "metadata": {
    "execution": {
     "iopub.execute_input": "2023-01-19T03:52:43.150740Z",
     "iopub.status.busy": "2023-01-19T03:52:43.150034Z",
     "iopub.status.idle": "2023-01-19T03:52:43.153938Z",
     "shell.execute_reply": "2023-01-19T03:52:43.153229Z",
     "shell.execute_reply.started": "2023-01-19T03:52:43.150710Z"
    },
    "scrolled": true,
    "tags": []
   },
   "outputs": [],
   "source": [
    "# !export PPNLP_HOME='/home/aistudio/external-libraries'"
   ]
  },
  {
   "cell_type": "code",
   "execution_count": 7,
   "metadata": {
    "execution": {
     "iopub.execute_input": "2023-01-19T03:52:43.155314Z",
     "iopub.status.busy": "2023-01-19T03:52:43.154835Z",
     "iopub.status.idle": "2023-01-19T03:53:10.997508Z",
     "shell.execute_reply": "2023-01-19T03:53:10.996374Z",
     "shell.execute_reply.started": "2023-01-19T03:52:43.155289Z"
    },
    "scrolled": true,
    "tags": []
   },
   "outputs": [
    {
     "name": "stderr",
     "output_type": "stream",
     "text": [
      "[2023-01-19 11:52:43,157] [    INFO] - Downloading https://bj.bcebos.com/paddlenlp/models/community/IDEA-CCNL/Randeng-Pegasus-238M-Summary-Chinese/vocab.txt and saved to /home/aistudio/.paddlenlp/models/IDEA-CCNL/Randeng-Pegasus-238M-Summary-Chinese\r\n",
      "[2023-01-19 11:52:43,159] [    INFO] - Downloading vocab.txt from https://bj.bcebos.com/paddlenlp/models/community/IDEA-CCNL/Randeng-Pegasus-238M-Summary-Chinese/vocab.txt\r\n",
      "100%|██████████| 365k/365k [00:00<00:00, 9.33MB/s]\r\n",
      "[2023-01-19 11:52:43,373] [    INFO] - Downloading https://bj.bcebos.com/paddlenlp/models/community/IDEA-CCNL/Randeng-Pegasus-238M-Summary-Chinese/added_tokens.json and saved to /home/aistudio/.paddlenlp/models/IDEA-CCNL/Randeng-Pegasus-238M-Summary-Chinese\r\n",
      "[2023-01-19 11:52:43,375] [    INFO] - Downloading added_tokens.json from https://bj.bcebos.com/paddlenlp/models/community/IDEA-CCNL/Randeng-Pegasus-238M-Summary-Chinese/added_tokens.json\r\n",
      "100%|██████████| 2.00/2.00 [00:00<00:00, 1.54kB/s]\r\n",
      "[2023-01-19 11:52:43,460] [    INFO] - Downloading https://bj.bcebos.com/paddlenlp/models/community/IDEA-CCNL/Randeng-Pegasus-238M-Summary-Chinese/special_tokens_map.json and saved to /home/aistudio/.paddlenlp/models/IDEA-CCNL/Randeng-Pegasus-238M-Summary-Chinese\r\n",
      "[2023-01-19 11:52:43,462] [    INFO] - Downloading special_tokens_map.json from https://bj.bcebos.com/paddlenlp/models/community/IDEA-CCNL/Randeng-Pegasus-238M-Summary-Chinese/special_tokens_map.json\r\n",
      "100%|██████████| 65.0/65.0 [00:00<00:00, 46.7kB/s]\r\n",
      "[2023-01-19 11:52:43,595] [    INFO] - Downloading https://bj.bcebos.com/paddlenlp/models/community/IDEA-CCNL/Randeng-Pegasus-238M-Summary-Chinese/tokenizer_config.json and saved to /home/aistudio/.paddlenlp/models/IDEA-CCNL/Randeng-Pegasus-238M-Summary-Chinese\r\n",
      "[2023-01-19 11:52:43,597] [    INFO] - Downloading tokenizer_config.json from https://bj.bcebos.com/paddlenlp/models/community/IDEA-CCNL/Randeng-Pegasus-238M-Summary-Chinese/tokenizer_config.json\r\n",
      "100%|██████████| 2.00/2.00 [00:00<00:00, 1.44kB/s]\r\n",
      "[2023-01-19 11:52:43,752] [    INFO] - Downloading https://bj.bcebos.com/paddlenlp/models/community/IDEA-CCNL/Randeng-Pegasus-238M-Summary-Chinese/model_state.pdparams and saved to /home/aistudio/.paddlenlp/models/IDEA-CCNL/Randeng-Pegasus-238M-Summary-Chinese\r\n",
      "[2023-01-19 11:52:43,754] [    INFO] - Downloading model_state.pdparams from https://bj.bcebos.com/paddlenlp/models/community/IDEA-CCNL/Randeng-Pegasus-238M-Summary-Chinese/model_state.pdparams\r\n",
      "100%|██████████| 675M/675M [00:17<00:00, 41.3MB/s] \r\n",
      "[2023-01-19 11:53:01,053] [    INFO] - Downloading https://bj.bcebos.com/paddlenlp/models/community/IDEA-CCNL/Randeng-Pegasus-238M-Summary-Chinese/model_config.json and saved to /home/aistudio/.paddlenlp/models/IDEA-CCNL/Randeng-Pegasus-238M-Summary-Chinese\r\n",
      "[2023-01-19 11:53:01,055] [    INFO] - Downloading model_config.json from https://bj.bcebos.com/paddlenlp/models/community/IDEA-CCNL/Randeng-Pegasus-238M-Summary-Chinese/model_config.json\r\n",
      "100%|██████████| 731/731 [00:00<00:00, 514kB/s]\r\n",
      "W0119 11:53:01.181041   181 gpu_resources.cc:61] Please NOTE: device: 0, GPU Compute Capability: 7.0, Driver API Version: 11.2, Runtime API Version: 11.2\r\n",
      "W0119 11:53:01.184993   181 gpu_resources.cc:91] device: 0, cuDNN Version: 8.2.\r\n"
     ]
    }
   ],
   "source": [
    "from paddlenlp.transformers import PegasusForConditionalGeneration, PegasusChineseTokenizer\n",
    "\n",
    "# 初始化分词器\n",
    "tokenizer = PegasusChineseTokenizer.from_pretrained('IDEA-CCNL/Randeng-Pegasus-238M-Summary-Chinese')\n",
    "\n",
    "# 初始化模型，也可以选择IDEA-CCNL/Randeng-Pegasus-523M-Summary-Chinese\n",
    "model = PegasusForConditionalGeneration.from_pretrained('IDEA-CCNL/Randeng-Pegasus-238M-Summary-Chinese')"
   ]
  },
  {
   "cell_type": "code",
   "execution_count": 8,
   "metadata": {
    "execution": {
     "iopub.execute_input": "2023-01-19T03:53:10.999971Z",
     "iopub.status.busy": "2023-01-19T03:53:10.999359Z",
     "iopub.status.idle": "2023-01-19T03:53:11.008416Z",
     "shell.execute_reply": "2023-01-19T03:53:11.007711Z",
     "shell.execute_reply.started": "2023-01-19T03:53:10.999941Z"
    },
    "scrolled": true,
    "tags": []
   },
   "outputs": [
    {
     "data": {
      "text/plain": [
       "<module 'aigc_pkg.prepare' from '/home/aistudio/work/aigc-pkg-paddle/aigc_pkg/prepare.py'>"
      ]
     },
     "execution_count": 8,
     "metadata": {},
     "output_type": "execute_result"
    }
   ],
   "source": [
    "from importlib import reload\n",
    "from aigc_pkg import prepare\n",
    "reload(prepare)"
   ]
  },
  {
   "cell_type": "code",
   "execution_count": 9,
   "metadata": {
    "execution": {
     "iopub.execute_input": "2023-01-19T03:53:11.009697Z",
     "iopub.status.busy": "2023-01-19T03:53:11.009391Z",
     "iopub.status.idle": "2023-01-19T03:53:11.014581Z",
     "shell.execute_reply": "2023-01-19T03:53:11.013780Z",
     "shell.execute_reply.started": "2023-01-19T03:53:11.009675Z"
    },
    "scrolled": true,
    "tags": []
   },
   "outputs": [],
   "source": [
    "# 原始字段需要移除\n",
    "remove_columns = ['source', 'target', 'id']\n",
    "# 文本的最大长度\n",
    "max_source_length = 128\n",
    "# 摘要的最大长度\n",
    "max_target_length = 64\n",
    "\n",
    "model_set = prepare.ModelSet(tokenizer, model)\n",
    "prepare_config = prepare.AbstractPrepareConfig(text_column=remove_columns[0], target_column=remove_columns[1],\n",
    "    max_source_length=max_source_length, max_target_length=max_target_length, min_target_length=0, batch_size=12)\n",
    "\n",
    "prepare_tool = prepare.AbstractGenerationPrapare(model_set, prepare_config)"
   ]
  },
  {
   "cell_type": "code",
   "execution_count": 11,
   "metadata": {
    "execution": {
     "iopub.execute_input": "2023-01-19T03:53:11.023820Z",
     "iopub.status.busy": "2023-01-19T03:53:11.023593Z",
     "iopub.status.idle": "2023-01-19T03:53:11.026791Z",
     "shell.execute_reply": "2023-01-19T03:53:11.026202Z",
     "shell.execute_reply.started": "2023-01-19T03:53:11.023800Z"
    },
    "scrolled": true,
    "tags": []
   },
   "outputs": [],
   "source": [
    "train_dataset, dev_dataset = prepare_tool.get_dataset(train_dataset, dev_dataset, remove_columns)"
   ]
  },
  {
   "cell_type": "code",
   "execution_count": 12,
   "metadata": {
    "execution": {
     "iopub.execute_input": "2023-01-19T03:53:11.028120Z",
     "iopub.status.busy": "2023-01-19T03:53:11.027621Z",
     "iopub.status.idle": "2023-01-19T03:53:11.031436Z",
     "shell.execute_reply": "2023-01-19T03:53:11.030821Z",
     "shell.execute_reply.started": "2023-01-19T03:53:11.028097Z"
    },
    "scrolled": true,
    "tags": []
   },
   "outputs": [],
   "source": [
    "train_data_loader, dev_data_loader = prepare_tool.get_dataloader(train_dataset, dev_dataset)"
   ]
  },
  {
   "cell_type": "code",
   "execution_count": 13,
   "metadata": {
    "execution": {
     "iopub.execute_input": "2023-01-19T03:53:11.032732Z",
     "iopub.status.busy": "2023-01-19T03:53:11.032249Z",
     "iopub.status.idle": "2023-01-19T03:53:13.192867Z",
     "shell.execute_reply": "2023-01-19T03:53:13.192062Z",
     "shell.execute_reply.started": "2023-01-19T03:53:11.032709Z"
    },
    "scrolled": true,
    "tags": []
   },
   "outputs": [
    {
     "name": "stderr",
     "output_type": "stream",
     "text": [
      "Building prefix dict from the default dictionary ...\r\n",
      "Dumping model to file cache /tmp/jieba.cache\r\n",
      "Loading model cost 0.800 seconds.\r\n",
      "Prefix dict has been built successfully.\r\n"
     ]
    },
    {
     "name": "stdout",
     "output_type": "stream",
     "text": [
      "{'input_ids': [27381, 108, 6809, 115, 21641, 108, 3115, 312, 1591, 115, 34263, 108, 25808, 115, 34303, 108, 27296, 115, 13777, 108, 11018, 115, 4511, 22039, 108, 14380, 115, 4511, 22377, 108, 3519, 2768, 1], 'attention_mask': [1, 1, 1, 1, 1, 1, 1, 1, 1, 1, 1, 1, 1, 1, 1, 1, 1, 1, 1, 1, 1, 1, 1, 1, 1, 1, 1, 1, 1, 1, 1, 1, 1], 'labels': [27296, 3968, 200, 27283, 3399, 24809, 14380, 5661, 25808, 3399, 4511, 4853, 11559, 3397, 2131, 179, 4511, 4853, 14465, 2335, 469, 2245, 3519, 2768, 30561, 5661, 18839, 709, 4667, 245, 860, 5661, 14189, 6226, 32455, 26196, 179, 4511, 31555, 4030, 1218, 2335, 31427, 11018, 30152, 5661, 7524, 38695, 5661, 17741, 10945, 20847, 179, 1]}\r\n",
      "{'input_ids': [27381, 108, 4544, 115, 21641, 108, 32977, 115, 34263, 108, 27696, 115, 34303, 108, 14317, 115, 34303, 108, 20406, 115, 34303, 108, 27296, 115, 13777, 108, 22074, 115, 13777, 108, 27696, 115, 13777, 108, 14317, 115, 4544, 1138, 108, 28704, 4544, 115, 4544, 5219, 108, 42413, 115, 4544, 5406, 1138, 108, 702, 34753, 1], 'attention_mask': [1, 1, 1, 1, 1, 1, 1, 1, 1, 1, 1, 1, 1, 1, 1, 1, 1, 1, 1, 1, 1, 1, 1, 1, 1, 1, 1, 1, 1, 1, 1, 1, 1, 1, 1, 1, 1, 1, 1, 1, 1, 1, 1, 1, 1, 1, 1, 1, 1, 1, 1, 1, 1, 1], 'labels': [4920, 2596, 47512, 32977, 217, 330, 1255, 42413, 5661, 27296, 3399, 27696, 702, 34753, 32977, 6809, 5661, 9218, 3454, 34235, 3834, 5661, 1484, 2280, 8618, 22802, 179, 12845, 19847, 771, 3653, 4790, 6362, 28704, 1678, 3399, 14317, 2449, 3830, 4544, 5661, 20320, 20252, 3454, 6430, 18075, 3399, 20872, 34767, 5661, 1722, 2274, 20406, 4216, 179, 1]}\r\n",
      "{'input_ids': [27381, 108, 6809, 115, 34303, 108, 1047, 908, 115, 13777, 108, 11912, 115, 13777, 108, 11946, 115, 13777, 108, 2156, 4155, 115, 4511, 22039, 108, 723, 4511, 115, 4511, 22377, 108, 4924, 1614, 1], 'attention_mask': [1, 1, 1, 1, 1, 1, 1, 1, 1, 1, 1, 1, 1, 1, 1, 1, 1, 1, 1, 1, 1, 1, 1, 1, 1, 1, 1, 1, 1, 1, 1, 1, 1, 1], 'labels': [1047, 908, 3188, 4863, 27140, 5661, 33692, 100, 5661, 23170, 5661, 588, 4506, 32011, 4566, 5366, 723, 4511, 2374, 4539, 5062, 922, 5658, 20847, 7397, 3399, 4924, 1614, 30561, 5661, 25062, 2335, 4216, 4919, 33442, 9135, 179, 32012, 28760, 2156, 4155, 3399, 11912, 11946, 30561, 5661, 33975, 19102, 2328, 16005, 42269, 5661, 11215, 627, 1617, 38270, 756, 20847, 28272, 3399, 30088, 514, 5661, 1]}\r\n"
     ]
    }
   ],
   "source": [
    "# 输出训练集的前 3 条样本\n",
    "for idx, example in enumerate(dev_dataset):\n",
    "    if idx < 3:\n",
    "        print(example) "
   ]
  },
  {
   "cell_type": "markdown",
   "metadata": {},
   "source": [
    "# 训练模型"
   ]
  },
  {
   "cell_type": "code",
   "execution_count": 14,
   "metadata": {
    "execution": {
     "iopub.execute_input": "2023-01-19T03:53:13.261647Z",
     "iopub.status.busy": "2023-01-19T03:53:13.261417Z",
     "iopub.status.idle": "2023-01-19T03:53:13.515715Z",
     "shell.execute_reply": "2023-01-19T03:53:13.515030Z",
     "shell.execute_reply.started": "2023-01-19T03:53:13.261627Z"
    },
    "scrolled": true,
    "tags": []
   },
   "outputs": [
    {
     "data": {
      "text/plain": [
       "<module 'aigc_pkg.generator' from '/home/aistudio/work/aigc-pkg-paddle/aigc_pkg/generator.py'>"
      ]
     },
     "execution_count": 14,
     "metadata": {},
     "output_type": "execute_result"
    }
   ],
   "source": [
    "from aigc_pkg import generator\n",
    "reload(generator)"
   ]
  },
  {
   "cell_type": "code",
   "execution_count": 17,
   "metadata": {
    "execution": {
     "iopub.execute_input": "2023-01-19T03:55:25.509300Z",
     "iopub.status.busy": "2023-01-19T03:55:25.508406Z",
     "iopub.status.idle": "2023-01-19T03:55:25.517564Z",
     "shell.execute_reply": "2023-01-19T03:55:25.516918Z",
     "shell.execute_reply.started": "2023-01-19T03:55:25.509267Z"
    },
    "scrolled": true,
    "tags": []
   },
   "outputs": [],
   "source": [
    "gen_config = generator.AbstractGeneratorConfig(\n",
    "    # 学习率预热比例\n",
    "    warmup = 0.02,\n",
    "    # 学习率\n",
    "    learning_rate = 5e-5,\n",
    "    # 训练轮次\n",
    "    num_epochs = 3,\n",
    "    # AdamW优化器参数epsilon\n",
    "    adam_epsilon = 1e-6,\n",
    "    # AdamW优化器参数weight_decay\n",
    "    weight_decay=0.01,\n",
    "    # 训练中，每个log_steps打印一次日志\n",
    "    log_steps = 100,\n",
    "    # 训练中，每隔eval_steps进行一次模型评估\n",
    "    eval_steps = 1000,\n",
    "    # 摘要的最小长度\n",
    "    min_target_length = 0,\n",
    "    # 训练模型保存路径\n",
    "    output_dir = 'checkpoints',\n",
    "    # 解码beam size\n",
    "    num_beams = 4,\n",
    "    log_dir = 'visualdl_log_dir'\n",
    ")\n",
    "\n",
    "gen = generator.AbstractGenerator(train_data_loader, dev_data_loader, model_set, prepare_config, gen_config)"
   ]
  },
  {
   "cell_type": "code",
   "execution_count": null,
   "metadata": {
    "execution": {
     "iopub.execute_input": "2023-01-19T03:55:26.057608Z",
     "iopub.status.busy": "2023-01-19T03:55:26.057105Z"
    },
    "scrolled": true,
    "tags": []
   },
   "outputs": [
    {
     "name": "stderr",
     "output_type": "stream",
     "text": [
      "[2023-01-19 11:55:41,914] [    INFO] - global step 100/28650, epoch: 0, batch: 99, rank_id: 0, loss: 3.479999, lr: 0.0000087260, speed: 6.3097 step/s\r\n",
      "[2023-01-19 11:55:56,675] [    INFO] - global step 200/28650, epoch: 0, batch: 199, rank_id: 0, loss: 3.536752, lr: 0.0000174520, speed: 6.7791 step/s\r\n",
      "[2023-01-19 11:56:11,356] [    INFO] - global step 300/28650, epoch: 0, batch: 299, rank_id: 0, loss: 3.450709, lr: 0.0000261780, speed: 6.8162 step/s\r\n",
      "[2023-01-19 11:56:26,306] [    INFO] - global step 400/28650, epoch: 0, batch: 399, rank_id: 0, loss: 3.693245, lr: 0.0000349040, speed: 6.6937 step/s\r\n",
      "[2023-01-19 11:56:40,969] [    INFO] - global step 500/28650, epoch: 0, batch: 499, rank_id: 0, loss: 3.355099, lr: 0.0000436300, speed: 6.8246 step/s\r\n",
      "[2023-01-19 11:56:55,707] [    INFO] - global step 600/28650, epoch: 0, batch: 599, rank_id: 0, loss: 2.931969, lr: 0.0000499519, speed: 6.7899 step/s\r\n",
      "[2023-01-19 11:57:10,438] [    INFO] - global step 700/28650, epoch: 0, batch: 699, rank_id: 0, loss: 3.207160, lr: 0.0000497738, speed: 6.7928 step/s\r\n",
      "[2023-01-19 11:57:25,280] [    INFO] - global step 800/28650, epoch: 0, batch: 799, rank_id: 0, loss: 3.502902, lr: 0.0000495958, speed: 6.7421 step/s\r\n",
      "[2023-01-19 11:57:40,161] [    INFO] - global step 900/28650, epoch: 0, batch: 899, rank_id: 0, loss: 3.266449, lr: 0.0000494177, speed: 6.7247 step/s\r\n",
      "[2023-01-19 11:57:55,701] [    INFO] - global step 1000/28650, epoch: 0, batch: 999, rank_id: 0, loss: 3.448083, lr: 0.0000492396, speed: 6.4390 step/s\r\n",
      "Eval step: 100%|██████████| 90/90 [02:34<00:00,  1.71s/it]\r\n"
     ]
    },
    {
     "name": "stdout",
     "output_type": "stream",
     "text": [
      "\r\n",
      "***************\r\n",
      "The auto evaluation result is:\r\n",
      "rouge-1: 38.88\r\n",
      "rouge-2: 15.75\r\n",
      "rouge-L: 26.42\r\n",
      "BLEU-4: 8.52\r\n"
     ]
    },
    {
     "name": "stderr",
     "output_type": "stream",
     "text": [
      "[2023-01-19 12:00:35,466] [    INFO] - eval done total : 159.7616035938263 s\r\n",
      "[2023-01-19 12:00:39,153] [    INFO] - tokenizer config file saved in checkpoints/tokenizer_config.json\r\n",
      "[2023-01-19 12:00:39,156] [    INFO] - Special tokens file saved in checkpoints/special_tokens_map.json\r\n",
      "[2023-01-19 12:00:54,014] [    INFO] - global step 1100/28650, epoch: 0, batch: 1099, rank_id: 0, loss: 3.006933, lr: 0.0000490615, speed: 0.5608 step/s\r\n",
      "[2023-01-19 12:01:08,886] [    INFO] - global step 1200/28650, epoch: 0, batch: 1199, rank_id: 0, loss: 3.212152, lr: 0.0000488834, speed: 6.7287 step/s\r\n",
      "[2023-01-19 12:01:23,934] [    INFO] - global step 1300/28650, epoch: 0, batch: 1299, rank_id: 0, loss: 3.333295, lr: 0.0000487053, speed: 6.6496 step/s\r\n",
      "[2023-01-19 12:01:38,732] [    INFO] - global step 1400/28650, epoch: 0, batch: 1399, rank_id: 0, loss: 2.908715, lr: 0.0000485273, speed: 6.7626 step/s\r\n",
      "[2023-01-19 12:01:53,694] [    INFO] - global step 1500/28650, epoch: 0, batch: 1499, rank_id: 0, loss: 2.983691, lr: 0.0000483492, speed: 6.6882 step/s\r\n",
      "[2023-01-19 12:02:08,456] [    INFO] - global step 1600/28650, epoch: 0, batch: 1599, rank_id: 0, loss: 3.137845, lr: 0.0000481711, speed: 6.7786 step/s\r\n",
      "[2023-01-19 12:02:23,403] [    INFO] - global step 1700/28650, epoch: 0, batch: 1699, rank_id: 0, loss: 2.981460, lr: 0.0000479930, speed: 6.6918 step/s\r\n",
      "[2023-01-19 12:02:38,318] [    INFO] - global step 1800/28650, epoch: 0, batch: 1799, rank_id: 0, loss: 2.849482, lr: 0.0000478149, speed: 6.7090 step/s\r\n",
      "[2023-01-19 12:02:53,236] [    INFO] - global step 1900/28650, epoch: 0, batch: 1899, rank_id: 0, loss: 3.072244, lr: 0.0000476369, speed: 6.7080 step/s\r\n",
      "[2023-01-19 12:03:08,611] [    INFO] - global step 2000/28650, epoch: 0, batch: 1999, rank_id: 0, loss: 3.397534, lr: 0.0000474588, speed: 6.5083 step/s\r\n",
      "Eval step: 100%|██████████| 90/90 [02:34<00:00,  1.72s/it]\r\n"
     ]
    },
    {
     "name": "stdout",
     "output_type": "stream",
     "text": [
      "\r\n",
      "***************\r\n",
      "The auto evaluation result is:\r\n",
      "rouge-1: 39.64\r\n",
      "rouge-2: 16.72\r\n",
      "rouge-L: 27.24\r\n",
      "BLEU-4: 8.86\r\n"
     ]
    },
    {
     "name": "stderr",
     "output_type": "stream",
     "text": [
      "[2023-01-19 12:05:48,877] [    INFO] - eval done total : 160.26383233070374 s\r\n",
      "[2023-01-19 12:06:02,524] [    INFO] - tokenizer config file saved in checkpoints/tokenizer_config.json\r\n",
      "[2023-01-19 12:06:02,528] [    INFO] - Special tokens file saved in checkpoints/special_tokens_map.json\r\n",
      "[2023-01-19 12:06:17,999] [    INFO] - global step 2100/28650, epoch: 0, batch: 2099, rank_id: 0, loss: 3.295329, lr: 0.0000472807, speed: 0.5280 step/s\r\n",
      "[2023-01-19 12:06:32,742] [    INFO] - global step 2200/28650, epoch: 0, batch: 2199, rank_id: 0, loss: 3.268803, lr: 0.0000471026, speed: 6.7872 step/s\r\n",
      "[2023-01-19 12:06:47,626] [    INFO] - global step 2300/28650, epoch: 0, batch: 2299, rank_id: 0, loss: 3.222262, lr: 0.0000469245, speed: 6.7231 step/s\r\n",
      "[2023-01-19 12:07:02,438] [    INFO] - global step 2400/28650, epoch: 0, batch: 2399, rank_id: 0, loss: 2.956820, lr: 0.0000467464, speed: 6.7558 step/s\r\n",
      "[2023-01-19 12:07:17,272] [    INFO] - global step 2500/28650, epoch: 0, batch: 2499, rank_id: 0, loss: 3.230188, lr: 0.0000465684, speed: 6.7460 step/s\r\n",
      "[2023-01-19 12:07:32,295] [    INFO] - global step 2600/28650, epoch: 0, batch: 2599, rank_id: 0, loss: 3.155761, lr: 0.0000463903, speed: 6.6576 step/s\r\n",
      "[2023-01-19 12:07:48,929] [    INFO] - global step 2700/28650, epoch: 0, batch: 2699, rank_id: 0, loss: 2.956526, lr: 0.0000462122, speed: 6.0155 step/s\r\n",
      "[2023-01-19 12:08:04,689] [    INFO] - global step 2800/28650, epoch: 0, batch: 2799, rank_id: 0, loss: 2.848037, lr: 0.0000460341, speed: 6.3497 step/s\r\n",
      "[2023-01-19 12:08:19,546] [    INFO] - global step 2900/28650, epoch: 0, batch: 2899, rank_id: 0, loss: 2.884396, lr: 0.0000458560, speed: 6.7352 step/s\r\n",
      "[2023-01-19 12:08:34,464] [    INFO] - global step 3000/28650, epoch: 0, batch: 2999, rank_id: 0, loss: 2.937507, lr: 0.0000456780, speed: 6.7077 step/s\r\n",
      "Eval step:  44%|████▍     | 40/90 [01:10<01:43,  2.07s/it]"
     ]
    }
   ],
   "source": [
    "# 调用模型训练\n",
    "gen.train()"
   ]
  },
  {
   "cell_type": "markdown",
   "metadata": {},
   "source": [
    "# 模型预测"
   ]
  },
  {
   "cell_type": "code",
   "execution_count": null,
   "metadata": {
    "execution": {
     "iopub.status.busy": "2023-01-19T03:55:07.812457Z",
     "iopub.status.idle": "2023-01-19T03:55:07.812771Z",
     "shell.execute_reply": "2023-01-19T03:55:07.812636Z",
     "shell.execute_reply.started": "2023-01-19T03:55:07.812623Z"
    },
    "scrolled": true
   },
   "outputs": [],
   "source": [
    "# 加载训练好的模型\n",
    "model = PegasusForConditionalGeneration.from_pretrained('checkpoints')\n",
    "model.eval()\n",
    "tokenizer = PegasusChineseTokenizer.from_pretrained('checkpoints')\n",
    "\n",
    "gen.model_set.model = model\n",
    "gen.model_set.tokenizer = tokenizer"
   ]
  },
  {
   "cell_type": "code",
   "execution_count": null,
   "metadata": {
    "execution": {
     "iopub.status.busy": "2023-01-19T03:55:07.813857Z",
     "iopub.status.idle": "2023-01-19T03:55:07.814167Z",
     "shell.execute_reply": "2023-01-19T03:55:07.814032Z",
     "shell.execute_reply.started": "2023-01-19T03:55:07.814020Z"
    },
    "scrolled": true
   },
   "outputs": [],
   "source": [
    "# 推理\n",
    "# TODO 换成advertisegen的数据\n",
    "text = '类型#裤*版型#宽松*风格#性感*图案#线条*裤型#阔腿裤'\n",
    "gen.infer(text, text_column='source', decode_strategy='beam_search')"
   ]
  },
  {
   "cell_type": "code",
   "execution_count": null,
   "metadata": {
    "scrolled": true
   },
   "outputs": [],
   "source": []
  }
 ],
 "metadata": {
  "kernelspec": {
   "display_name": "Python 3",
   "language": "python",
   "name": "py35-paddle1.2.0"
  },
  "language_info": {
   "codemirror_mode": {
    "name": "ipython",
    "version": 3
   },
   "file_extension": ".py",
   "mimetype": "text/x-python",
   "name": "python",
   "nbconvert_exporter": "python",
   "pygments_lexer": "ipython3",
   "version": "3.7.4"
  }
 },
 "nbformat": 4,
 "nbformat_minor": 4
}
